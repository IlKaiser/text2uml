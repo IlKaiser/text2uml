{
 "cells": [
  {
   "cell_type": "code",
   "execution_count": 1,
   "id": "51df5c15-e028-456f-a79f-d276cfee734c",
   "metadata": {},
   "outputs": [],
   "source": [
    "import base64\n",
    "from openai import OpenAI"
   ]
  },
  {
   "cell_type": "code",
   "execution_count": null,
   "id": "5fddb914-6c59-4500-869a-d8846ceb8c2f",
   "metadata": {},
   "outputs": [],
   "source": [
    "from dotenv import load_dotenv\n",
    "assert load_dotenv()"
   ]
  },
  {
   "cell_type": "code",
   "execution_count": 3,
   "id": "a34eca4b-962e-41f5-9399-70fb545bae25",
   "metadata": {},
   "outputs": [],
   "source": [
    "# Function to encode the image\n",
    "def encode_image(image_path):\n",
    "  with open(image_path, \"rb\") as image_file:\n",
    "    return base64.b64encode(image_file.read()).decode('utf-8')"
   ]
  },
  {
   "cell_type": "code",
   "execution_count": 4,
   "id": "39731614-f665-487b-bd8e-d9f34e22ab22",
   "metadata": {},
   "outputs": [],
   "source": [
    "client = OpenAI()"
   ]
  },
  {
   "cell_type": "code",
   "execution_count": null,
   "id": "f2d611d7",
   "metadata": {},
   "outputs": [],
   "source": []
  },
  {
   "cell_type": "code",
   "execution_count": 11,
   "id": "d1ed99d7-b143-4f2f-adaf-4fefa5c53946",
   "metadata": {},
   "outputs": [],
   "source": [
    "# Path to your image\n",
    "image_path = \"/Users/marcocalamo/KUL/Dataset/ProjectAdministration_/ProjectAdministration_D_B_oet_edg.png\"\n",
    "# Getting the base64 string\n",
    "base64_image = encode_image(image_path)"
   ]
  },
  {
   "cell_type": "code",
   "execution_count": 12,
   "id": "ccf9255d-3102-4688-bb56-08eb2102a99d",
   "metadata": {},
   "outputs": [],
   "source": [
    "response = client.chat.completions.create(\n",
    "  model=\"gpt-4o\",\n",
    "  messages=[\n",
    "    {\n",
    "      \"role\": \"user\",\n",
    "      \"content\": [\n",
    "        {\n",
    "          \"type\": \"text\",\n",
    "          \"text\": \"\"\" \n",
    "          Now try with this image to extract plant uml, using past example as a reference, being careful \n",
    "          to use just one relationship between two classes. The relationship are never one sided.\n",
    "\"\"\",\n",
    "        },\n",
    "        {\n",
    "          \"type\": \"image_url\",\n",
    "          \"image_url\": {\n",
    "            \"url\":  f\"data:image/jpeg;base64,{base64_image}\"\n",
    "          },\n",
    "        },\n",
    "      ],\n",
    "    }\n",
    "  ],\n",
    ")"
   ]
  },
  {
   "cell_type": "code",
   "execution_count": 13,
   "id": "cb5f8511-c6bd-40b1-a2f4-1a9a6c201102",
   "metadata": {},
   "outputs": [
    {
     "name": "stdout",
     "output_type": "stream",
     "text": [
      "Here's a text-based representation of the UML diagram using PlantUML syntax, ensuring that each relationship is bidirectional:\n",
      "\n",
      "```plantuml\n",
      "@startuml\n",
      "\n",
      "class Group\n",
      "class Person\n",
      "class Project\n",
      "class GroupOfProject\n",
      "class PersonInGroup\n",
      "class Assignment\n",
      "class Registration\n",
      "\n",
      "Group \"1\" -- \"0..*\" GroupOfProject\n",
      "Group \"1\" -- \"0..1\" PersonInGroup\n",
      "\n",
      "Person \"1\" -- \"0..1\" PersonInGroup\n",
      "\n",
      "Project \"1\" -- \"0..*\" GroupOfProject\n",
      "Project \"1\" -- \"0..*\" Assignment\n",
      "\n",
      "Assignment \"0..*\" -- \"1\" Registration\n",
      "\n",
      "@enduml\n",
      "```\n",
      "\n",
      "This syntax captures the relationships and cardinalities as represented in the image.\n"
     ]
    }
   ],
   "source": [
    "print(response.choices[0].message.content)"
   ]
  }
 ],
 "metadata": {
  "kernelspec": {
   "display_name": "Python 3 (ipykernel)",
   "language": "python",
   "name": "python3"
  },
  "language_info": {
   "codemirror_mode": {
    "name": "ipython",
    "version": 3
   },
   "file_extension": ".py",
   "mimetype": "text/x-python",
   "name": "python",
   "nbconvert_exporter": "python",
   "pygments_lexer": "ipython3",
   "version": "3.11.5"
  }
 },
 "nbformat": 4,
 "nbformat_minor": 5
}
