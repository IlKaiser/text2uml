{
 "cells": [
  {
   "cell_type": "markdown",
   "id": "1354cc70-f0e5-4ceb-8abb-e8290f9e4a05",
   "metadata": {},
   "source": [
    "# Template Definition"
   ]
  },
  {
   "cell_type": "code",
   "execution_count": 1,
   "id": "48051682-039d-4dea-80fa-416f0e56d4ed",
   "metadata": {},
   "outputs": [],
   "source": [
    "ROOT_FOLDER = \"\""
   ]
  },
  {
   "cell_type": "code",
   "execution_count": 2,
   "id": "8abf5dda-e975-442e-a7c1-58657f77f816",
   "metadata": {},
   "outputs": [],
   "source": [
    "prompt_template_noun   = \"\"\"\n",
    "Step 1:\n",
    "\n",
    "Identify all the nouns in the specification text which can potentially be the class name.\n",
    "Include as much as nouns as possible and do not care about their functions for now.\n",
    "\n",
    "###########\n",
    "\n",
    "The specification text is:\n",
    "\n",
    "{text}\n",
    "\n",
    "##############\n",
    "\n",
    "The class list is:\n",
    "    \n",
    "\"\"\"\n",
    "prompt_template_class = \"\"\"\n",
    "Step 2:\n",
    "\n",
    "You will be asked to extact, from text specification, the list of class to use in \n",
    "a uml conceptual model diagram. Include only classes relevant for conceptual modeling.\n",
    "\n",
    "\n",
    "Identify classes from the nouns list extracted from the problem description above.\n",
    "A class is the description for a set of similar objects that have the same structure and behavior, i.e., its instances\n",
    "All objects with the same features and behavior are instances of one class.\n",
    "In general, something should be a class if it could have instances.\n",
    "In general, something should be an instance if it is clearly a single member of the set defined by a class.\n",
    "Keep in mind that some of the nouns may be attributes or roles of the identified classes.\n",
    "Choose proper names for classes according the the following rules:\n",
    "1. Noun\n",
    "2. Singular\n",
    "3. Not too general, not too specific – at the right level of abstraction\n",
    "4. Avoid software engineering terms (data, record, table, information)\n",
    "5. Conventions: first letter capitalized; camel case without spaces if needed\n",
    "\n",
    "Example class names:\n",
    "Hospital, Doctor, PartTimeEmployee\n",
    "\n",
    "Constraints:\n",
    "Create classes at the right level of abstraction.\n",
    "Not all nouns in the nouns list are classes, some of them may be attributes, role names, or even not needed for diagram.\n",
    "Do NOT include all the nouns list as classes. Evaluate if it is needed to be a class.\n",
    "ONLY generate classes that are necessary to develop the system.\n",
    "\n",
    "\n",
    "Example:\n",
    "Problem Description: This system helps the Java Valley police officers keep track of the cases they are assigned to do. \n",
    "Officers may be assigned to investigate particular crimes, \n",
    "which involves interviewing victims at their homes and entering notes in the PI system. \n",
    "Identified Class List: PoliceStation, Case, PoliceOfficer, Victim, Crime, Note\n",
    "\n",
    "\n",
    "Output only the list and no other text.\n",
    "Keep the list as short as possible and do not add irrelevant classes.\n",
    "\n",
    "##############\n",
    "\n",
    "The noun list is: \n",
    "\n",
    "{noun}\n",
    "\n",
    "##############\n",
    "\n",
    "The text specification is: \n",
    "\n",
    "{text}\n",
    "\n",
    "##############\n",
    "\n",
    "The class list is:\n",
    "\"\"\"\n",
    "\n",
    "prompt_template_assoc =  \"\"\"\n",
    "Step 3:\n",
    "\n",
    "You will be asked to extact, from text specification and a list of classes, the associations amongst\n",
    "the classes to use in a uml conceptual model diagram. \n",
    "\n",
    "Include only associations relevant for conceptual modeling. Use only classes from the list.\n",
    "\n",
    "example format: mul1 Class1 -- mul2 Class2\n",
    "\n",
    "Class1 and Class2 are classes above. mul1 and mul2 are one of the following options[0..*, 1..1, 0..1, 1..*]\n",
    "there might be multiple associations\n",
    "For example:\n",
    "0..* Student -- 0..5 Registration\n",
    "1..1 Student -- 0..1 StudentProfile\n",
    "\n",
    "Note:\n",
    "1. Use the classes in the given generated classes list, generate the classes and their relationships.\n",
    "2. Only add the system class if the existing class diagram misses the system class.\n",
    "3. Do NOT change existing classes or add other classes besides the system class.\n",
    "4. In most of the cases, there is only 1 relationship within the same two classes.\n",
    "\n",
    "Do not include any other text.\n",
    "\n",
    "##############\n",
    "\n",
    "The class list is: \n",
    "\n",
    "{classes}\n",
    "\n",
    "#############\n",
    "\n",
    "The specification text is:\n",
    "\n",
    "{text}\n",
    "\n",
    "##############\n",
    "\n",
    "The association list is:\n",
    "    \n",
    "\"\"\"\n",
    "\n",
    "    \n",
    "\n",
    "prompt_template_plant = \"\"\"\n",
    "Step 4\n",
    ":\n",
    "\n",
    "You will be asked by the user to create a plant UMl model from a class list and an association list.\n",
    "Do so in the most clear way possible, avoid class properties and assign molteplicity. \n",
    "\n",
    "The format of class list is:\n",
    "\n",
    "ClassName1, ClassName2, ...\n",
    "\n",
    "The format of association list is:\n",
    "\n",
    "example format: mul1 ClassName1 -- mul2 ClassName2\n",
    "\n",
    "for every class in class list write:\n",
    "\n",
    "class ClassName1{{}}\n",
    "class ClassName2{{}}\n",
    "\n",
    "for every tuple in association list write:\n",
    "\n",
    "ClassName1 \"mul1\" -- \"mul2\" Classname2.\n",
    "\n",
    "Output plantuml without futher text or explaination. Use tags \n",
    "@startuml\n",
    "at the beginning and \n",
    "@enduml \n",
    "at the end of the output.\n",
    "\n",
    "##############\n",
    "\n",
    "The class list is: \n",
    "{classes}\n",
    "\n",
    "#############\n",
    "\n",
    "##############\n",
    "\n",
    "The association list is: \n",
    "\n",
    "{association}\n",
    "\n",
    "#############\n",
    "\n",
    "The plant uml is:\n",
    "\n",
    "\"\"\""
   ]
  },
  {
   "cell_type": "code",
   "execution_count": 3,
   "id": "9cddce97-ff3f-446f-980f-0ffe83541fcb",
   "metadata": {},
   "outputs": [],
   "source": [
    "from langchain_core.prompts import ChatPromptTemplate, PromptTemplate"
   ]
  },
  {
   "cell_type": "code",
   "execution_count": 4,
   "id": "83235d8f-368b-4d41-ac54-87b80b97784f",
   "metadata": {},
   "outputs": [],
   "source": [
    "from langchain.chains import LLMChain\n",
    "from langchain.llms import OpenAI\n",
    "from langchain.prompts import PromptTemplate\n",
    "from langchain.chat_models import ChatOpenAI\n",
    "from langchain_core.output_parsers import StrOutputParser\n",
    "\n",
    "from langchain_ollama import ChatOllama"
   ]
  },
  {
   "cell_type": "code",
   "execution_count": 5,
   "id": "a47b7f80-a1cf-4720-9782-295d7d956d0b",
   "metadata": {},
   "outputs": [],
   "source": [
    "from langchain_core.runnables import RunnableParallel, RunnablePassthrough, RunnableLambda"
   ]
  },
  {
   "cell_type": "code",
   "execution_count": 6,
   "id": "ebbd394e-35fb-47dc-b14b-8790c25dd49a",
   "metadata": {},
   "outputs": [],
   "source": [
    "def build_chian_from_llms(llm):\n",
    "    \n",
    "    prompt_noun = PromptTemplate(\n",
    "         input_variables=[\"text\"],   \n",
    "         template = prompt_template_noun         \n",
    "    )\n",
    "    prompt_class = PromptTemplate(\n",
    "        input_variables=[\"text\", \"noun\"],\n",
    "        template = prompt_template_class                     \n",
    "    )\n",
    "    \n",
    "    prompt_assoc = PromptTemplate(\n",
    "        input_variables=[\"text\",\"classes\"],\n",
    "        template = prompt_template_assoc                    \n",
    "    )\n",
    "    \n",
    "    \n",
    "    prompt_uml = PromptTemplate(\n",
    "        input_variables=[\"classes\",\"association\"],\n",
    "        template = prompt_template_plant                \n",
    "    )\n",
    "\n",
    "    name_chain  =  prompt_noun | llm | StrOutputParser()\n",
    "    class_chain = prompt_class | llm | StrOutputParser()\n",
    "    assoc_chain = prompt_assoc | llm | StrOutputParser()\n",
    "    uml_chain   =   prompt_uml | llm | StrOutputParser()\n",
    "    \n",
    "    full_chain = (\n",
    "         RunnableLambda(lambda x: {\"text\": x[\"text\"]})\n",
    "        |{\n",
    "            \"text\": lambda x: x[\"text\"],\n",
    "            \"noun\" : name_chain\n",
    "        }\n",
    "        | {\n",
    "            \"text\": lambda x: x[\"text\"],\n",
    "            \"noun\": lambda x: x[\"noun\"],\n",
    "            \"classes\": class_chain\n",
    "        }\n",
    "        | {\n",
    "            \"text\": lambda x: x[\"text\"],\n",
    "            \"classes\": lambda x: x[\"classes\"],\n",
    "            \"association\": assoc_chain\n",
    "        }\n",
    "        | {\n",
    "            \"classes\": lambda x: x[\"classes\"],\n",
    "            \"association\": lambda x: x[\"association\"],\n",
    "            \"uml\": uml_chain\n",
    "        } \n",
    "        | RunnableLambda(lambda x: x[\"uml\"])\n",
    "        | StrOutputParser()\n",
    "    )\n",
    "    return full_chain\n"
   ]
  },
  {
   "cell_type": "code",
   "execution_count": 7,
   "id": "57cfbcd0-2bc0-4ba5-80b8-f14702706f65",
   "metadata": {},
   "outputs": [],
   "source": [
    "import os\n",
    "from tqdm import tqdm\n",
    "from docx import Document\n",
    "# LangChain Python also supports a context manager for tracing a specific block of code.\n",
    "from langchain_core.tracers.context import tracing_v2_enabled\n",
    "\n",
    "def process_subfolders_with_chain(root_folder_path, chain, type=''):\n",
    "    \"\"\"\n",
    "    Explores subfolders of the root folder (depth 1), processes each subfolder's `text.txt`\n",
    "    with the provided LangChain chain, and saves the result in a new file in the same folder.\n",
    "\n",
    "    Args:\n",
    "        root_folder_path (str): Path to the root folder.\n",
    "        chain: A LangChain chain instance to process text inputs.\n",
    "    \"\"\"\n",
    "    for subfolder_name in tqdm(os.listdir(root_folder_path)):\n",
    "        subfolder_path = os.path.join(root_folder_path, subfolder_name)\n",
    "        \n",
    "        # Ensure the current item is a subfolder\n",
    "        if os.path.isdir(subfolder_path):\n",
    "            text_file_path = os.path.join(subfolder_path, \"text.txt\")\n",
    "            \n",
    "            # Check if `text.txt` exists in the subfolder\n",
    "            if not os.path.isfile(text_file_path):\n",
    "                # If `text.txt` is missing, check for any .docx file in the subfolder\n",
    "                docx_files = [f for f in os.listdir(subfolder_path) if f.endswith(\".docx\")]\n",
    "                if docx_files:\n",
    "                    docx_file_path = os.path.join(subfolder_path, docx_files[0])\n",
    "                    # Extract content from the .docx file\n",
    "                    doc = Document(docx_file_path)\n",
    "                    text_content = \"\\n\".join([paragraph.text for paragraph in doc.paragraphs])\n",
    "\n",
    "                    # Save the extracted content to `text.txt`\n",
    "                    with open(text_file_path, \"w\", encoding=\"utf-8\") as text_file:\n",
    "                        text_file.write(text_content)\n",
    "\n",
    "            # Recheck if `text.txt` now exists\n",
    "            if os.path.isfile(text_file_path):\n",
    "                with open(text_file_path, \"r\", encoding=\"utf-8\") as file:\n",
    "                    text = file.read()\n",
    "\n",
    "                # Call the LangChain chain with the input dictionary\n",
    "                with tracing_v2_enabled():\n",
    "                    result = chain.invoke({\"text\": text})\n",
    "\n",
    "                # Save the result to a new file in the same subfolder\n",
    "                result_file_path = os.path.join(subfolder_path, f\"result_cot2_{type}.txt\")\n",
    "                with open(result_file_path, \"w\", encoding=\"utf-8\") as result_file:\n",
    "                    result_file.write(result)"
   ]
  },
  {
   "cell_type": "code",
   "execution_count": 8,
   "id": "cc30d8ab-eae2-4d99-80d3-1e7bf7d5c432",
   "metadata": {},
   "outputs": [],
   "source": [
    "def delete_result_txt_files(root_folder_path):\n",
    "    \"\"\"\n",
    "    Deletes every .txt file that starts with 'result_' in the subfolders of the root folder (depth 1).\n",
    "\n",
    "    Args:\n",
    "        root_folder_path (str): Path to the root folder.\n",
    "    \"\"\"\n",
    "    for subfolder_name in os.listdir(root_folder_path):\n",
    "        subfolder_path = os.path.join(root_folder_path, subfolder_name)\n",
    "        \n",
    "        # Ensure the current item is a subfolder\n",
    "        if os.path.isdir(subfolder_path):\n",
    "            for file_name in os.listdir(subfolder_path):\n",
    "                if file_name.startswith(\"result_cot2_google\") and file_name.endswith(\".txt\"):\n",
    "                    file_path = os.path.join(subfolder_path, file_name)\n",
    "                    os.remove(file_path)"
   ]
  },
  {
   "cell_type": "code",
   "execution_count": 9,
   "id": "5f5bf858-cd8f-4e3b-ae5b-629416320dc0",
   "metadata": {},
   "outputs": [],
   "source": [
    "#delete_result_txt_files(ROOT_FOLDER)"
   ]
  },
  {
   "cell_type": "markdown",
   "id": "7c2a3d26-e23a-48a0-80c9-474784ed552c",
   "metadata": {},
   "source": [
    "# COT Open-AI"
   ]
  },
  {
   "cell_type": "code",
   "execution_count": 9,
   "id": "8322a2ff-322d-40e6-b0a0-a270abfc1ee7",
   "metadata": {},
   "outputs": [],
   "source": [
    "import os"
   ]
  },
  {
   "cell_type": "code",
   "execution_count": 10,
   "id": "5ae9c99e-900e-4bf1-aba7-16fe824aceee",
   "metadata": {},
   "outputs": [],
   "source": [
    "from dotenv import load_dotenv\n",
    "assert load_dotenv()"
   ]
  },
  {
   "cell_type": "code",
   "execution_count": 11,
   "id": "f9bfad1f-1c94-44db-a15a-58afc3b780ba",
   "metadata": {},
   "outputs": [],
   "source": [
    "MODEL_OPEN_AI = [\"o3-mini\", \"gpt-4o-mini\", \"gpt-4o\", \"gpt-4-turbo\", \"gpt-3.5-turbo\"]"
   ]
  },
  {
   "cell_type": "code",
   "execution_count": 11,
   "id": "828a51ad-9e16-4eae-8c83-761db2533177",
   "metadata": {},
   "outputs": [],
   "source": [
    "from langchain_openai import ChatOpenAI\n",
    "from langchain_core.output_parsers import StrOutputParser\n",
    "from langchain.agents.chat.output_parser import ChatOutputParser\n",
    "from IPython.display import display_markdown"
   ]
  },
  {
   "cell_type": "code",
   "execution_count": 13,
   "id": "7cd398db-4102-4faa-9313-c774c7d15f65",
   "metadata": {},
   "outputs": [],
   "source": [
    "def open_ai_cot2(model):\n",
    "    model_ = ChatOpenAI(model=model)\n",
    "    chain = build_chian_from_llms(model_)\n",
    "    process_subfolders_with_chain(ROOT_FOLDER, chain, type=model)"
   ]
  },
  {
   "cell_type": "code",
   "execution_count": 14,
   "id": "6504bdc7-44b7-4aa6-bb6b-57acd88a6ea5",
   "metadata": {},
   "outputs": [],
   "source": [
    "def open_ai_make_example(model):\n",
    "    model = ChatOpenAI(model=model)\n",
    "    chain = build_chian_from_llms(model)\n",
    "    res = chain.invoke({\"text\": \"\"\"Alpha Insurance is an insurance company that provides its clients with various types of insurance policies. \n",
    "As soon as a customer addresses Alpha Insurance, a broker is assigned to follow the customer’s file. The broker is registered in the system, so that when a customer calls, based on the contract, the help desk can immediately trace who is the customer's first account manager. After the broker is assigned to the customer, the latter indicates which type(s) of insurance policy they would like to sign for, so the broker could, depending on the case, either assess the customer’s profile on the spot or send the customer’s file for analysis to the head office. After the customer’s profile has been assessed and the customer has been deemed trustworthy , a preliminary contract/offer on an insurance product is made to the customer either in person or by email. (Such offers can also be extended to already existing customers.) If the customer agrees to the offer, the contract is signed by both parties. After the signing of the contract, the client enjoys the coverage and is invoiced (monthly or yearly – depending on the choice made in the contract) according to the price of the insurance product they bought.\n",
    "\n",
    "In case the insured event happens, a customer should send a claim for compensation. Then the company opens one or several claim cases (e.g. in case of an accident, often material damage & physical damage are handled separately). Once the case file is complete, it is sent for assessment by different estimators based on their area of expertise. According to the reports issued by the estimators, it is decided whether the claim case is approved. In case of approval the compensation decision is registered that stipulates which costs are eligible for (partial) refund.  For the supplied documents, the sum of compensation is calculated and the compensation is paid to the customer’s account.  The estimators’ reports must be stored in the database for at least one year after the payment of compensation for legal purposes. \n",
    "\n",
    "\"\"\"})\n",
    "    return res"
   ]
  },
  {
   "cell_type": "code",
   "execution_count": 15,
   "id": "0233047c-8846-42bf-a24a-40e7554d0990",
   "metadata": {},
   "outputs": [
    {
     "data": {
      "text/markdown": [
       "@startuml\n",
       "class InsuranceCompany{}\n",
       "class Customer{}\n",
       "class Broker{}\n",
       "class AccountManager{}\n",
       "class InsurancePolicy{}\n",
       "class Contract{}\n",
       "class Offer{}\n",
       "class CustomerFile{}\n",
       "class Invoice{}\n",
       "class Claim{}\n",
       "class ClaimCase{}\n",
       "class Estimator{}\n",
       "class Report{}\n",
       "class CompensationDecision{}\n",
       "class Payment{}\n",
       "class CustomerAccount{}\n",
       "\n",
       "Customer \"1..1\" -- \"0..*\" Broker.\n",
       "Customer \"1..1\" -- \"1..1\" CustomerFile.\n",
       "Broker \"1..1\" -- \"0..*\" CustomerFile.\n",
       "Contract \"1..1\" -- \"0..*\" AccountManager.\n",
       "Customer \"1..1\" -- \"0..*\" Offer.\n",
       "Offer \"0..1\" -- \"1..1\" Contract.\n",
       "Contract \"1..1\" -- \"0..*\" Invoice.\n",
       "InsuranceCompany \"1..1\" -- \"0..*\" InsurancePolicy.\n",
       "Contract \"1..1\" -- \"0..*\" InsurancePolicy.\n",
       "Customer \"1..1\" -- \"0..*\" Contract.\n",
       "Customer \"1..1\" -- \"0..*\" Claim.\n",
       "Claim \"1..1\" -- \"1..*\" ClaimCase.\n",
       "ClaimCase \"1..1\" -- \"0..*\" Report.\n",
       "Estimator \"1..1\" -- \"0..*\" Report.\n",
       "ClaimCase \"1..1\" -- \"0..1\" CompensationDecision.\n",
       "CompensationDecision \"1..1\" -- \"1..1\" Payment.\n",
       "Payment \"1..1\" -- \"1..1\" CustomerAccount.\n",
       "@enduml"
      ]
     },
     "metadata": {},
     "output_type": "display_data"
    }
   ],
   "source": [
    "display_markdown(open_ai_make_example(MODEL_OPEN_AI[0]), raw=True)"
   ]
  },
  {
   "cell_type": "code",
   "execution_count": 16,
   "id": "51828f70-344d-4e2a-b442-4a4bd158f1a9",
   "metadata": {},
   "outputs": [
    {
     "name": "stdout",
     "output_type": "stream",
     "text": [
      "COT with o3-mini\n"
     ]
    },
    {
     "name": "stderr",
     "output_type": "stream",
     "text": [
      "100%|███████████████████████████████████████████| 48/48 [35:20<00:00, 44.17s/it]\n"
     ]
    }
   ],
   "source": [
    "for model in MODEL_OPEN_AI[0:1]:\n",
    "    print(f\"COT2 with {model}\")\n",
    "    open_ai_cot2(model)"
   ]
  },
  {
   "cell_type": "markdown",
   "id": "3091bc82-3434-4c6c-9c4f-51e5a15570af",
   "metadata": {},
   "source": [
    "## Anthropic"
   ]
  },
  {
   "cell_type": "code",
   "execution_count": 12,
   "id": "f1a07202-45d1-40b5-8985-fcb10cb05c52",
   "metadata": {},
   "outputs": [],
   "source": [
    "import torch, gc"
   ]
  },
  {
   "cell_type": "code",
   "execution_count": 13,
   "id": "f07db300-252b-42dc-834f-1e418102a536",
   "metadata": {},
   "outputs": [],
   "source": [
    "from langchain_anthropic import ChatAnthropic"
   ]
  },
  {
   "cell_type": "code",
   "execution_count": 14,
   "id": "04c769df-e0c7-424b-abe1-761724467e81",
   "metadata": {},
   "outputs": [],
   "source": [
    "MODEL_ANTHROPIC = [\"claude-3-7-sonnet-20250219\"]"
   ]
  },
  {
   "cell_type": "code",
   "execution_count": 15,
   "id": "32647b5b-1964-471b-abea-efbad149817f",
   "metadata": {},
   "outputs": [],
   "source": [
    "def anthropic_make_example(model):\n",
    "    model = ChatAnthropic(model=model,temperature=0,\n",
    "    max_tokens=1024,\n",
    "    timeout=None,\n",
    "    max_retries=2,)\n",
    "    chain = build_chian_from_llms(model)\n",
    "    res = chain.invoke({\"text\": \"\"\"Alpha Insurance is an insurance company that provides its clients with various types of insurance policies. \n",
    "As soon as a customer addresses Alpha Insurance, a broker is assigned to follow the customer’s file. The broker is registered in the system, so that when a customer calls, based on the contract, the help desk can immediately trace who is the customer's first account manager. After the broker is assigned to the customer, the latter indicates which type(s) of insurance policy they would like to sign for, so the broker could, depending on the case, either assess the customer’s profile on the spot or send the customer’s file for analysis to the head office. After the customer’s profile has been assessed and the customer has been deemed trustworthy , a preliminary contract/offer on an insurance product is made to the customer either in person or by email. (Such offers can also be extended to already existing customers.) If the customer agrees to the offer, the contract is signed by both parties. After the signing of the contract, the client enjoys the coverage and is invoiced (monthly or yearly – depending on the choice made in the contract) according to the price of the insurance product they bought.\n",
    "\n",
    "In case the insured event happens, a customer should send a claim for compensation. Then the company opens one or several claim cases (e.g. in case of an accident, often material damage & physical damage are handled separately). Once the case file is complete, it is sent for assessment by different estimators based on their area of expertise. According to the reports issued by the estimators, it is decided whether the claim case is approved. In case of approval the compensation decision is registered that stipulates which costs are eligible for (partial) refund.  For the supplied documents, the sum of compensation is calculated and the compensation is paid to the customer’s account.  The estimators’ reports must be stored in the database for at least one year after the payment of compensation for legal purposes. \n",
    "\n",
    "\"\"\"})\n",
    "    return res"
   ]
  },
  {
   "cell_type": "code",
   "execution_count": 16,
   "id": "2790c73e-a412-475a-b616-c65d13557d70",
   "metadata": {},
   "outputs": [],
   "source": [
    "def anthropic_cot2(model):\n",
    "    model_ = ChatAnthropic(model=model)\n",
    "    chain = build_chian_from_llms(model_)\n",
    "    process_subfolders_with_chain(ROOT_FOLDER, chain, type=model)"
   ]
  },
  {
   "cell_type": "code",
   "execution_count": 17,
   "id": "e0ea66d6-ddf5-4aad-a610-dc81e82c4421",
   "metadata": {},
   "outputs": [
    {
     "data": {
      "text/markdown": [
       "@startuml\n",
       "class InsuranceCompany{}\n",
       "class Client{}\n",
       "class InsurancePolicy{}\n",
       "class Broker{}\n",
       "class Contract{}\n",
       "class Offer{}\n",
       "class Product{}\n",
       "class Invoice{}\n",
       "class Claim{}\n",
       "class ClaimCase{}\n",
       "class Estimator{}\n",
       "class Report{}\n",
       "class CompensationDecision{}\n",
       "class Payment{}\n",
       "class Document{}\n",
       "\n",
       "InsuranceCompany \"1..1\" -- \"0..*\" Client\n",
       "InsuranceCompany \"1..1\" -- \"0..*\" Broker\n",
       "InsuranceCompany \"1..1\" -- \"0..*\" InsurancePolicy\n",
       "InsuranceCompany \"1..1\" -- \"0..*\" Product\n",
       "InsuranceCompany \"1..1\" -- \"0..*\" ClaimCase\n",
       "Client \"0..*\" -- \"1..*\" Broker\n",
       "Client \"0..*\" -- \"0..*\" InsurancePolicy\n",
       "Client \"0..*\" -- \"0..*\" Claim\n",
       "Client \"0..*\" -- \"0..*\" Payment\n",
       "Broker \"1..1\" -- \"0..*\" Contract\n",
       "Broker \"1..1\" -- \"0..*\" Offer\n",
       "InsurancePolicy \"1..1\" -- \"1..1\" Contract\n",
       "Contract \"1..1\" -- \"1..1\" Offer\n",
       "Contract \"1..1\" -- \"0..*\" Invoice\n",
       "Offer \"1..1\" -- \"1..1\" Product\n",
       "Claim \"0..*\" -- \"1..*\" ClaimCase\n",
       "ClaimCase \"1..1\" -- \"0..*\" Estimator\n",
       "ClaimCase \"1..1\" -- \"0..*\" Report\n",
       "ClaimCase \"1..1\" -- \"0..1\" CompensationDecision\n",
       "Estimator \"0..*\" -- \"1..*\" Report\n",
       "CompensationDecision \"1..1\" -- \"0..*\" Payment\n",
       "ClaimCase \"0..*\" -- \"0..*\" Document\n",
       "@enduml"
      ]
     },
     "metadata": {},
     "output_type": "display_data"
    }
   ],
   "source": [
    "display_markdown(anthropic_make_example(MODEL_ANTHROPIC[0]), raw=True)"
   ]
  },
  {
   "cell_type": "code",
   "execution_count": 19,
   "id": "b1ff44a1-0f79-4b34-8d5a-23448831f62e",
   "metadata": {},
   "outputs": [
    {
     "name": "stdout",
     "output_type": "stream",
     "text": [
      "COT2 with claude-3-7-sonnet-20250219\n"
     ]
    },
    {
     "name": "stderr",
     "output_type": "stream",
     "text": [
      "100%|███████████████████████████████████████████| 48/48 [05:47<00:00,  7.23s/it]\n"
     ]
    }
   ],
   "source": [
    "for model in MODEL_ANTHROPIC:\n",
    "    print(f\"COT2 with {model}\")\n",
    "    anthropic_cot2(model)"
   ]
  },
  {
   "cell_type": "markdown",
   "id": "8fe0debe-20a4-405e-93e3-be1532a8ff63",
   "metadata": {},
   "source": [
    "# CoT Open LLMs"
   ]
  },
  {
   "cell_type": "markdown",
   "id": "ce9378cb-61e8-4377-8c6b-15eb4cbaf76e",
   "metadata": {},
   "source": [
    "## Deepseek"
   ]
  },
  {
   "cell_type": "code",
   "execution_count": 22,
   "id": "6079b51a-c552-4f79-a87f-e27dce44743f",
   "metadata": {},
   "outputs": [],
   "source": [
    "from langchain_deepseek import ChatDeepSeek"
   ]
  },
  {
   "cell_type": "code",
   "execution_count": 23,
   "id": "77acbfb0-258c-4cd0-8e51-9dddcaf84f01",
   "metadata": {},
   "outputs": [],
   "source": [
    "MODEL_DEEPSEEK = [\"deepseek-chat\"] #, \"deepseek-reasoner\"]"
   ]
  },
  {
   "cell_type": "code",
   "execution_count": 24,
   "id": "4b721305-82fb-4765-aef0-a1a526bb48c5",
   "metadata": {},
   "outputs": [],
   "source": [
    "def deepseek_make_example(model):\n",
    "    model = llm = ChatDeepSeek(\n",
    "            model=model,\n",
    "            temperature=0,\n",
    "            max_tokens=None,\n",
    "            timeout=None,\n",
    "            max_retries=2,\n",
    "            # api_key=\"...\",\n",
    "            # other params...\n",
    "        )\n",
    "    chain = build_chian_from_llms(model)\n",
    "    res = chain.invoke({\"text\": \"\"\"Alpha Insurance is an insurance company that provides its clients with various types of insurance policies. \n",
    "As soon as a customer addresses Alpha Insurance, a broker is assigned to follow the customer’s file. The broker is registered in the system, so that when a customer calls, based on the contract, the help desk can immediately trace who is the customer's first account manager. After the broker is assigned to the customer, the latter indicates which type(s) of insurance policy they would like to sign for, so the broker could, depending on the case, either assess the customer’s profile on the spot or send the customer’s file for analysis to the head office. After the customer’s profile has been assessed and the customer has been deemed trustworthy , a preliminary contract/offer on an insurance product is made to the customer either in person or by email. (Such offers can also be extended to already existing customers.) If the customer agrees to the offer, the contract is signed by both parties. After the signing of the contract, the client enjoys the coverage and is invoiced (monthly or yearly – depending on the choice made in the contract) according to the price of the insurance product they bought.\n",
    "\n",
    "In case the insured event happens, a customer should send a claim for compensation. Then the company opens one or several claim cases (e.g. in case of an accident, often material damage & physical damage are handled separately). Once the case file is complete, it is sent for assessment by different estimators based on their area of expertise. According to the reports issued by the estimators, it is decided whether the claim case is approved. In case of approval the compensation decision is registered that stipulates which costs are eligible for (partial) refund.  For the supplied documents, the sum of compensation is calculated and the compensation is paid to the customer’s account.  The estimators’ reports must be stored in the database for at least one year after the payment of compensation for legal purposes. \n",
    "\n",
    "\"\"\"})\n",
    "    return res"
   ]
  },
  {
   "cell_type": "code",
   "execution_count": 25,
   "id": "e541373a-d3a2-407c-84f3-797f0f9a22e7",
   "metadata": {},
   "outputs": [],
   "source": [
    "def deepseek_cot2(model):\n",
    "    model_ = ChatDeepSeek(model=model)\n",
    "    chain = build_chian_from_llms(model_)\n",
    "    process_subfolders_with_chain(ROOT_FOLDER, chain, type=model)"
   ]
  },
  {
   "cell_type": "code",
   "execution_count": 26,
   "id": "77eedad8-9f53-4e91-9166-5deff5dcca32",
   "metadata": {},
   "outputs": [
    {
     "data": {
      "text/markdown": [
       "```plantuml\n",
       "@startuml\n",
       "class InsuranceCompany{}\n",
       "class Client{}\n",
       "class Broker{}\n",
       "class InsurancePolicy{}\n",
       "class Contract{}\n",
       "class Offer{}\n",
       "class Coverage{}\n",
       "class Invoice{}\n",
       "class Claim{}\n",
       "class ClaimCase{}\n",
       "class Accident{}\n",
       "class MaterialDamage{}\n",
       "class PhysicalDamage{}\n",
       "class Estimator{}\n",
       "class Report{}\n",
       "class Decision{}\n",
       "class Refund{}\n",
       "class Document{}\n",
       "class Payment{}\n",
       "\n",
       "InsuranceCompany \"1..1\" -- \"0..*\" Client\n",
       "Client \"1..1\" -- \"0..*\" InsurancePolicy\n",
       "Broker \"1..1\" -- \"0..*\" Client\n",
       "Client \"1..1\" -- \"0..1\" Broker\n",
       "InsurancePolicy \"1..1\" -- \"1..1\" Contract\n",
       "Contract \"1..1\" -- \"0..1\" Offer\n",
       "InsurancePolicy \"1..1\" -- \"1..*\" Coverage\n",
       "InsurancePolicy \"1..1\" -- \"0..*\" Invoice\n",
       "Client \"1..1\" -- \"0..*\" Claim\n",
       "Claim \"1..1\" -- \"1..*\" ClaimCase\n",
       "ClaimCase \"1..1\" -- \"0..1\" Accident\n",
       "Accident \"1..1\" -- \"0..*\" MaterialDamage\n",
       "Accident \"1..1\" -- \"0..*\" PhysicalDamage\n",
       "ClaimCase \"1..1\" -- \"0..*\" Estimator\n",
       "Estimator \"1..1\" -- \"0..*\" Report\n",
       "ClaimCase \"1..1\" -- \"0..1\" Decision\n",
       "Decision \"1..1\" -- \"0..1\" Refund\n",
       "ClaimCase \"1..1\" -- \"0..*\" Document\n",
       "Refund \"1..1\" -- \"0..1\" Payment\n",
       "@enduml\n",
       "```"
      ]
     },
     "metadata": {},
     "output_type": "display_data"
    },
    {
     "name": "stdout",
     "output_type": "stream",
     "text": [
      "CPU times: user 174 ms, sys: 22.1 ms, total: 196 ms\n",
      "Wall time: 1min 2s\n"
     ]
    }
   ],
   "source": [
    "%%time\n",
    "display_markdown(deepseek_make_example(MODEL_DEEPSEEK[0]), raw=True)"
   ]
  },
  {
   "cell_type": "code",
   "execution_count": 27,
   "id": "ddf12032-8bd6-46f0-a9e8-307437b37024",
   "metadata": {},
   "outputs": [
    {
     "name": "stdout",
     "output_type": "stream",
     "text": [
      "COT2 with deepseek-chat\n"
     ]
    },
    {
     "name": "stderr",
     "output_type": "stream",
     "text": [
      "100%|███████████████████████████████████████████| 48/48 [28:35<00:00, 35.74s/it]\n"
     ]
    }
   ],
   "source": [
    "for model in MODEL_DEEPSEEK:\n",
    "    print(f\"COT2 with {model}\")\n",
    "    deepseek_cot2(model)"
   ]
  },
  {
   "cell_type": "markdown",
   "id": "9e30f2b7-0eb2-465a-9224-98a42a171fe0",
   "metadata": {},
   "source": [
    "## Ollama"
   ]
  },
  {
   "cell_type": "code",
   "execution_count": 21,
   "id": "848047d5-35d6-4272-9ba4-a1e6a39346bc",
   "metadata": {},
   "outputs": [],
   "source": [
    "from langchain_ollama import ChatOllama"
   ]
  },
  {
   "cell_type": "code",
   "execution_count": 22,
   "id": "6ce832ba-b152-4775-87cd-c69565f67b21",
   "metadata": {},
   "outputs": [],
   "source": [
    "MODEL_OLLAMA = [] #[\"llama3.2:3b-text-fp16\"]"
   ]
  },
  {
   "cell_type": "code",
   "execution_count": 23,
   "id": "df4335f3-03a9-45af-8d82-bba70439807a",
   "metadata": {},
   "outputs": [],
   "source": [
    "def ollama_cot2(model):\n",
    "    model_ = ChatOllama(\n",
    "        model=model,\n",
    "        temperature=0,\n",
    "    )\n",
    "    chain = build_chian_from_llms(model_)\n",
    "    process_subfolders_with_chain(ROOT_FOLDER, chain, type=model)"
   ]
  },
  {
   "cell_type": "code",
   "execution_count": 24,
   "id": "0477e649-cfda-4654-a52c-c58940935865",
   "metadata": {},
   "outputs": [],
   "source": [
    "def ollama_make_example(model):\n",
    "    model = ChatOllama(\n",
    "        model=model,\n",
    "        temperature=0,\n",
    "    )\n",
    "    chain = build_chian_from_llms(model)\n",
    "    res = chain.invoke({\"text\": \"\"\"Alpha Insurance is an insurance company that provides its clients with various types of insurance policies. \n",
    "As soon as a customer addresses Alpha Insurance, a broker is assigned to follow the customer’s file. The broker is registered in the system, so that when a customer calls, based on the contract, the help desk can immediately trace who is the customer's first account manager. After the broker is assigned to the customer, the latter indicates which type(s) of insurance policy they would like to sign for, so the broker could, depending on the case, either assess the customer’s profile on the spot or send the customer’s file for analysis to the head office. After the customer’s profile has been assessed and the customer has been deemed trustworthy , a preliminary contract/offer on an insurance product is made to the customer either in person or by email. (Such offers can also be extended to already existing customers.) If the customer agrees to the offer, the contract is signed by both parties. After the signing of the contract, the client enjoys the coverage and is invoiced (monthly or yearly – depending on the choice made in the contract) according to the price of the insurance product they bought.\n",
    "\n",
    "In case the insured event happens, a customer should send a claim for compensation. Then the company opens one or several claim cases (e.g. in case of an accident, often material damage & physical damage are handled separately). Once the case file is complete, it is sent for assessment by different estimators based on their area of expertise. According to the reports issued by the estimators, it is decided whether the claim case is approved. In case of approval the compensation decision is registered that stipulates which costs are eligible for (partial) refund.  For the supplied documents, the sum of compensation is calculated and the compensation is paid to the customer’s account.  The estimators’ reports must be stored in the database for at least one year after the payment of compensation for legal purposes. \n",
    "\n",
    "\"\"\"})\n",
    "    return res\n",
    "    "
   ]
  },
  {
   "cell_type": "code",
   "execution_count": 25,
   "id": "33afa71e-b8c6-4c49-b11b-b89cfb704409",
   "metadata": {},
   "outputs": [],
   "source": [
    "#display_markdown(ollama_make_example(MODEL_OLLAMA[0]), raw=True)"
   ]
  },
  {
   "cell_type": "code",
   "execution_count": 26,
   "id": "48b60c86-7d08-4790-b5ae-b875c102788e",
   "metadata": {},
   "outputs": [],
   "source": [
    "for model in MODEL_OLLAMA:\n",
    "    print(f\"COT with {model}\")\n",
    "    ollama_cot2(model)\n",
    "    gc.collect()\n",
    "    torch.mps.empty_cache()"
   ]
  },
  {
   "cell_type": "markdown",
   "id": "db448981-cf0a-42b5-b7ed-cb73bf0fbb56",
   "metadata": {},
   "source": [
    "## Huggingface"
   ]
  },
  {
   "cell_type": "code",
   "execution_count": 27,
   "id": "96994dbd-a971-4ae7-9ee9-5d0705d9a2ac",
   "metadata": {},
   "outputs": [
    {
     "name": "stderr",
     "output_type": "stream",
     "text": [
      "/Users/marcocalamo/anaconda3/lib/python3.11/site-packages/torchvision/io/image.py:13: UserWarning: Failed to load image Python extension: 'dlopen(/Users/marcocalamo/anaconda3/lib/python3.11/site-packages/torchvision/image.so, 0x0006): Symbol not found: __ZN3c1017RegisterOperatorsD1Ev\n",
      "  Referenced from: <9DBE5D5C-AC87-30CA-96DA-F5BC116EDA2B> /Users/marcocalamo/anaconda3/lib/python3.11/site-packages/torchvision/image.so\n",
      "  Expected in:     <A51C8C05-245A-3989-8D3C-9A6704422CA5> /Users/marcocalamo/anaconda3/lib/python3.11/site-packages/torch/lib/libtorch_cpu.dylib'If you don't plan on using image functionality from `torchvision.io`, you can ignore this warning. Otherwise, there might be something wrong with your environment. Did you have `libjpeg` or `libpng` installed before building `torchvision` from source?\n",
      "  warn(\n"
     ]
    }
   ],
   "source": [
    "from langchain_huggingface import HuggingFacePipeline, ChatHuggingFace, HuggingFaceEndpoint\n",
    "from transformers import AutoTokenizer, AutoModelForCausalLM, pipeline"
   ]
  },
  {
   "cell_type": "code",
   "execution_count": 28,
   "id": "b07eead8-de14-4dc8-95bf-02c77101f9dd",
   "metadata": {},
   "outputs": [],
   "source": [
    "MODEL_HUGGINGFACE = [] #[\"google/gemma-2-2b-it\"] #[\"Qwen/Qwen2.5-3B-Instruct\", \"microsoft/Phi-3-mini-4k-instruct\", \"google/gemma-2-27b-it\"]"
   ]
  },
  {
   "cell_type": "code",
   "execution_count": 29,
   "id": "ccce77e7-20f7-45b0-817b-b04107541a07",
   "metadata": {},
   "outputs": [],
   "source": [
    "def huggingface_cot2(model):\n",
    "    model_id = model\n",
    "    \n",
    "    llm = HuggingFaceEndpoint(\n",
    "        repo_id=model_id,\n",
    "        task=\"text-generation\",\n",
    "        max_new_tokens=2048,\n",
    "        do_sample=False,\n",
    "        repetition_penalty=1.03,\n",
    "        temperature=0.01,\n",
    "    )\n",
    "\n",
    "    chat = ChatHuggingFace(llm=llm, verbose=True)\n",
    "    \n",
    "    chain = build_chian_from_llms(chat)\n",
    "    process_subfolders_with_chain(ROOT_FOLDER, chain, type=model_id.replace(\"/\",\"_\"))"
   ]
  },
  {
   "cell_type": "code",
   "execution_count": 30,
   "id": "a8cab307-e878-41a6-a13d-0f6904a4f30c",
   "metadata": {},
   "outputs": [],
   "source": [
    "def huggingface_make_example(model):\n",
    "\n",
    "    model_id = model\n",
    "    \n",
    "    llm = HuggingFacePipeline.from_model_id(\n",
    "        model_id=model_id,\n",
    "        task=\"text-generation\",\n",
    "        pipeline_kwargs={\"temperature\": 0.1, \"max_new_tokens\": 1024}\n",
    "    )\n",
    "\n",
    "    chat = ChatHuggingFace(llm=llm, verbose=True)\n",
    "    \n",
    "    chain = build_chian_from_llms(chat)\n",
    "    res = chain.invoke({\"text\": \"\"\"Alpha Insurance is an insurance company that provides its clients with various types of insurance policies. \n",
    "        As soon as a customer addresses Alpha Insurance, a broker is assigned to follow the customer’s file. The broker is registered in the system, so that when a customer calls, based on the contract, the help desk can immediately trace who is the customer's first account manager. After the broker is assigned to the customer, the latter indicates which type(s) of insurance policy they would like to sign for, so the broker could, depending on the case, either assess the customer’s profile on the spot or send the customer’s file for analysis to the head office. After the customer’s profile has been assessed and the customer has been deemed trustworthy , a preliminary contract/offer on an insurance product is made to the customer either in person or by email. (Such offers can also be extended to already existing customers.) If the customer agrees to the offer, the contract is signed by both parties. After the signing of the contract, the client enjoys the coverage and is invoiced (monthly or yearly – depending on the choice made in the contract) according to the price of the insurance product they bought.\n",
    "        \n",
    "        In case the insured event happens, a customer should send a claim for compensation. Then the company opens one or several claim cases (e.g. in case of an accident, often material damage & physical damage are handled separately). Once the case file is complete, it is sent for assessment by different estimators based on their area of expertise. According to the reports issued by the estimators, it is decided whether the claim case is approved. In case of approval the compensation decision is registered that stipulates which costs are eligible for (partial) refund.  For the supplied documents, the sum of compensation is calculated and the compensation is paid to the customer’s account.  The estimators’ reports must be stored in the database for at least one year after the payment of compensation for legal purposes. \n",
    "        \n",
    "        \"\"\"})\n",
    "    return res\n"
   ]
  },
  {
   "cell_type": "code",
   "execution_count": 31,
   "id": "6cfe2884-9b34-4874-ae95-9985e4a09870",
   "metadata": {
    "scrolled": true
   },
   "outputs": [],
   "source": [
    "#display_markdown(huggingface_make_example(MODEL_HUGGINGFACE[0]), raw=True)"
   ]
  },
  {
   "cell_type": "code",
   "execution_count": 32,
   "id": "ba9b628f-024e-450a-8d85-2db5b0c67c4f",
   "metadata": {},
   "outputs": [],
   "source": [
    "for model in MODEL_HUGGINGFACE:\n",
    "    print(f\"COT2 with {model}\")\n",
    "    huggingface_cot2(model)\n",
    "    gc.collect()\n",
    "    torch.mps.empty_cache()"
   ]
  },
  {
   "cell_type": "markdown",
   "id": "e76f5762-513f-4c2d-93f8-10598a2e7827",
   "metadata": {},
   "source": [
    "## Mlx-LLM"
   ]
  },
  {
   "cell_type": "code",
   "execution_count": 13,
   "id": "a61c5ea0-0f4a-4cc2-8220-0d38d8f91bf5",
   "metadata": {},
   "outputs": [],
   "source": [
    "from langchain_community.llms import MLXPipeline\n",
    "from langchain_community.chat_models import ChatMLX"
   ]
  },
  {
   "cell_type": "code",
   "execution_count": 14,
   "id": "6c805336-ba69-459f-9fd9-3271aeec6aeb",
   "metadata": {},
   "outputs": [],
   "source": [
    "MODEL_MLX = [\"mlx-community/phi-4-8bit\",\n",
    "             \"mlx-community/Falcon3-10B-Instruct-8bit\", \n",
    "             \"mlx-community/Qwen2.5-14B-Instruct-4bit\",\n",
    "             \"mlx-community/Mistral-7B-Instruct-v0.3-4bit\",\n",
    "             \"mlx-community/DeepSeek-R1-Distill-Qwen-7B-8bit\",\n",
    "             \"mlx-community/Llama-3.2-3B-Instruct\",\n",
    "             \"mlx-community/gemma-2-9b-8bit\",\n",
    "             #\"mlx-community/gemma-2-27b-it-4bit\",\n",
    "            # \"mlx-community/Mamba-Codestral-7B-v0.1-8bit\",\n",
    "            #\"mlx-community/CodeLlama-13b-Instruct-hf-4bit-MLX\"\n",
    "            ]"
   ]
  },
  {
   "cell_type": "code",
   "execution_count": 15,
   "id": "958151bc-0e7e-418a-9127-98d1e00e558b",
   "metadata": {},
   "outputs": [],
   "source": [
    "def mlx_cot2(model):\n",
    "    llm = MLXPipeline.from_model_id(\n",
    "        model_id=model,\n",
    "        pipeline_kwargs={\"max_tokens\": 30_000, \"temp\": 0.1},\n",
    "    )\n",
    "    chat = ChatMLX(llm=llm)\n",
    "    chain = build_chian_from_llms(chat)\n",
    "    process_subfolders_with_chain(ROOT_FOLDER, chain, type=model.replace(\"/\",\"_\"))"
   ]
  },
  {
   "cell_type": "code",
   "execution_count": 16,
   "id": "68a8ee38-7b7b-4a1f-8dec-02cb504b53b0",
   "metadata": {},
   "outputs": [],
   "source": [
    "def mlx_make_example(model):\n",
    "    llm = MLXPipeline.from_model_id(\n",
    "        model_id=model,\n",
    "        pipeline_kwargs={\"max_tokens\": 3000, \"temp\": 0.7},\n",
    "    )\n",
    "    chat = ChatMLX(llm=llm)\n",
    "    chain = build_chian_from_llms(chat)\n",
    "    res = chain.invoke({\"text\": \"\"\"Alpha Insurance is an insurance company that provides its clients with various types of insurance policies. \n",
    "As soon as a customer addresses Alpha Insurance, a broker is assigned to follow the customer’s file. The broker is registered in the system, so that when a customer calls, based on the contract, the help desk can immediately trace who is the customer's first account manager. After the broker is assigned to the customer, the latter indicates which type(s) of insurance policy they would like to sign for, so the broker could, depending on the case, either assess the customer’s profile on the spot or send the customer’s file for analysis to the head office. After the customer’s profile has been assessed and the customer has been deemed trustworthy , a preliminary contract/offer on an insurance product is made to the customer either in person or by email. (Such offers can also be extended to already existing customers.) If the customer agrees to the offer, the contract is signed by both parties. After the signing of the contract, the client enjoys the coverage and is invoiced (monthly or yearly – depending on the choice made in the contract) according to the price of the insurance product they bought.\n",
    "\n",
    "In case the insured event happens, a customer should send a claim for compensation. Then the company opens one or several claim cases (e.g. in case of an accident, often material damage & physical damage are handled separately). Once the case file is complete, it is sent for assessment by different estimators based on their area of expertise. According to the reports issued by the estimators, it is decided whether the claim case is approved. In case of approval the compensation decision is registered that stipulates which costs are eligible for (partial) refund.  For the supplied documents, the sum of compensation is calculated and the compensation is paid to the customer’s account.  The estimators’ reports must be stored in the database for at least one year after the payment of compensation for legal purposes. \n",
    "\n",
    "\"\"\"})\n",
    "    return res\n"
   ]
  },
  {
   "cell_type": "code",
   "execution_count": 17,
   "id": "30a9e5a1-d9a8-447f-877e-645a04c5d2e4",
   "metadata": {
    "scrolled": true
   },
   "outputs": [
    {
     "data": {
      "application/vnd.jupyter.widget-view+json": {
       "model_id": "6951ae490d37477599f0e2704a39dab2",
       "version_major": 2,
       "version_minor": 0
      },
      "text/plain": [
       "Fetching 10 files:   0%|          | 0/10 [00:00<?, ?it/s]"
      ]
     },
     "metadata": {},
     "output_type": "display_data"
    },
    {
     "data": {
      "text/markdown": [
       "@startuml\n",
       "class AlphaInsurance{}\n",
       "class Client{}\n",
       "class Broker{}\n",
       "class Contract{}\n",
       "class InsurancePolicy{}\n",
       "class Profile{}\n",
       "class HeadOffice{}\n",
       "class Offer{}\n",
       "class InsuredEvent{}\n",
       "class Claim{}\n",
       "class Case{}\n",
       "class Estimator{}\n",
       "class Report{}\n",
       "class Compensation{}\n",
       "class Database{}\n",
       "\n",
       "Client \"0..*\" -- \"1..1\" Broker\n",
       "Client \"0..*\" -- \"0..1\" Profile\n",
       "Client \"1..1\" -- \"0..1\" Contract\n",
       "Broker \"0..*\" -- \"0..*\" Contract\n",
       "Contract \"0..*\" -- \"0..1\" InsurancePolicy\n",
       "Contract \"0..*\" -- \"0..*\" Offer\n",
       "Contract \"0..*\" -- \"0..*\" Claim\n",
       "Claim \"0..*\" -- \"1..1\" Case\n",
       "Case \"0..*\" -- \"0..*\" Estimator\n",
       "Case \"0..*\" -- \"0..1\" Compensation\n",
       "Estimator \"0..*\" -- \"0..*\" Report\n",
       "Report \"0..*\" -- \"0..1\" Database\n",
       "@enduml"
      ]
     },
     "metadata": {},
     "output_type": "display_data"
    }
   ],
   "source": [
    "display_markdown(mlx_make_example(MODEL_MLX[2]), raw=True)"
   ]
  },
  {
   "cell_type": "code",
   "execution_count": 18,
   "id": "ccea0873-879d-4fcb-a1a0-d97197370751",
   "metadata": {},
   "outputs": [],
   "source": [
    "os.environ[\"PROTOCOL_BUFFERS_PYTHON_IMPLEMENTATION\"] = \"python\""
   ]
  },
  {
   "cell_type": "code",
   "execution_count": 19,
   "id": "bd6172f7-9306-4653-855b-ba6b03340bba",
   "metadata": {},
   "outputs": [],
   "source": [
    "import gc, torch\n",
    "gc.collect()\n",
    "torch.mps.empty_cache()"
   ]
  },
  {
   "cell_type": "code",
   "execution_count": null,
   "id": "5d835f1b-7493-4a1b-8c51-26142777d17d",
   "metadata": {},
   "outputs": [
    {
     "name": "stdout",
     "output_type": "stream",
     "text": [
      "COT with mlx-community/Mistral-7B-Instruct-v0.3-4bit\n"
     ]
    },
    {
     "data": {
      "application/vnd.jupyter.widget-view+json": {
       "model_id": "63a8502af39d44f4bbcd997ba304e00b",
       "version_major": 2,
       "version_minor": 0
      },
      "text/plain": [
       "Fetching 7 files:   0%|          | 0/7 [00:00<?, ?it/s]"
      ]
     },
     "metadata": {},
     "output_type": "display_data"
    },
    {
     "name": "stderr",
     "output_type": "stream",
     "text": [
      "100%|███████████████████████████████████████████| 44/44 [53:28<00:00, 72.93s/it]\n"
     ]
    },
    {
     "name": "stdout",
     "output_type": "stream",
     "text": [
      "COT with mlx-community/DeepSeek-R1-Distill-Qwen-7B-8bit\n"
     ]
    },
    {
     "data": {
      "application/vnd.jupyter.widget-view+json": {
       "model_id": "3e10d8aae5fa4bb0bddd943c87f65a45",
       "version_major": 2,
       "version_minor": 0
      },
      "text/plain": [
       "Fetching 7 files:   0%|          | 0/7 [00:00<?, ?it/s]"
      ]
     },
     "metadata": {},
     "output_type": "display_data"
    },
    {
     "name": "stderr",
     "output_type": "stream",
     "text": [
      "100%|████████████████████████████████████████| 44/44 [2:40:17<00:00, 218.58s/it]\n"
     ]
    },
    {
     "name": "stdout",
     "output_type": "stream",
     "text": [
      "COT with mlx-community/Llama-3.2-3B-Instruct\n"
     ]
    },
    {
     "data": {
      "application/vnd.jupyter.widget-view+json": {
       "model_id": "8ccfe5ad93184f3eb1663499910f4d62",
       "version_major": 2,
       "version_minor": 0
      },
      "text/plain": [
       "Fetching 7 files:   0%|          | 0/7 [00:00<?, ?it/s]"
      ]
     },
     "metadata": {},
     "output_type": "display_data"
    },
    {
     "name": "stderr",
     "output_type": "stream",
     "text": [
      "100%|███████████████████████████████████████████| 44/44 [33:09<00:00, 45.22s/it]\n"
     ]
    }
   ],
   "source": [
    "for model in MODEL_MLX:\n",
    "    print(f\"COT2 with {model}\")\n",
    "    mlx_cot2(model)\n",
    "    import gc, torch\n",
    "    gc.collect()\n",
    "    torch.mps.empty_cache()"
   ]
  },
  {
   "cell_type": "markdown",
   "id": "0067e756-9fdc-4a62-9aef-70ac6df19f12",
   "metadata": {},
   "source": [
    "### Clean Cache"
   ]
  },
  {
   "cell_type": "code",
   "execution_count": 21,
   "id": "c3904bc0-b746-400e-b5f0-4988b10d459e",
   "metadata": {},
   "outputs": [],
   "source": [
    "import gc, torch\n",
    "gc.collect()\n",
    "torch.mps.empty_cache()"
   ]
  }
 ],
 "metadata": {
  "kernelspec": {
   "display_name": "Python 3 (ipykernel)",
   "language": "python",
   "name": "python3"
  },
  "language_info": {
   "codemirror_mode": {
    "name": "ipython",
    "version": 3
   },
   "file_extension": ".py",
   "mimetype": "text/x-python",
   "name": "python",
   "nbconvert_exporter": "python",
   "pygments_lexer": "ipython3",
   "version": "3.11.5"
  }
 },
 "nbformat": 4,
 "nbformat_minor": 5
}
