{
 "cells": [
  {
   "cell_type": "code",
   "execution_count": 4,
   "id": "2d15bb0b-fda4-4e4c-bb5a-cf65cddcc5f2",
   "metadata": {},
   "outputs": [],
   "source": [
    "ROOT_FOLDER = \"\""
   ]
  },
  {
   "cell_type": "code",
   "execution_count": 7,
   "id": "b6ce1d81-0d5c-4dc4-814f-07d03c07e40c",
   "metadata": {},
   "outputs": [],
   "source": [
    "from dotenv import load_dotenv\n",
    "assert load_dotenv()"
   ]
  },
  {
   "cell_type": "code",
   "execution_count": 23,
   "id": "0e0930ba-e60a-4eb5-8256-cf44c4865a7a",
   "metadata": {},
   "outputs": [],
   "source": [
    "TASK = \"\"\"You will be asked by the user to create a plant UMl model from specification text. Do so in the most\n",
    "clear way possible, avoid class properties and assign molteplicity. \n",
    "\n",
    "Do not include attributes for classes. For example the class Book would be:\n",
    "\n",
    "class Book{{}}\n",
    "\n",
    "Use only bi-directional arc for relations and no description. For example a relation between\n",
    "the class Book and the class Page, if the Book can have from one to many pages and the \n",
    "pages could have exactly one book, would be:\n",
    "\n",
    "Book \"1..1\" -- \"1..*\" Page\n",
    "\n",
    "Adapt the cardinality to each case. If the cardinality would be \"0..*\", the default one, omit it.\n",
    "\n",
    "The plantuml has to be the class diagram. In generating the diagram perform this steps in order\n",
    "\n",
    "1. Extract class from text\n",
    "2. Extract relations form text\n",
    "3. Assign the relation to the corresponding class\n",
    "4. Add cardinality to the relations\n",
    "\n",
    "Put everything in this order: first all classes and then all relations. In our example would be:\n",
    "\n",
    "@startuml\n",
    "\n",
    "class Book{{}}\n",
    "class Page{{}}\n",
    "\n",
    "Book \"1..1\" -- \"1..*\" Page\n",
    "\n",
    "@enduml\n",
    "\n",
    "Output plantuml without futher text or explaination.\n",
    "\n",
    "##############\n",
    "\n",
    "The specification text is:\n",
    "\n",
    "{text}\n",
    "\n",
    "##############\n",
    "\n",
    "The uml output is:\n",
    "\"\"\""
   ]
  },
  {
   "cell_type": "code",
   "execution_count": 2,
   "id": "9f78ca20-85c6-4b21-8fd4-dcdb6a5792b3",
   "metadata": {},
   "outputs": [],
   "source": [
    "import os\n",
    "import pandas as pd\n",
    "from tqdm import tqdm\n",
    "import re"
   ]
  },
  {
   "cell_type": "code",
   "execution_count": 45,
   "id": "f8ba253f-2dbd-40be-98be-57dd826b6488",
   "metadata": {},
   "outputs": [],
   "source": [
    "def create_dataset(root_folder_path):\n",
    "    \"\"\"\n",
    "    Explores subfolders of the root folder (depth 1), processes each subfolder's `text.txt`\n",
    "    and `uml.txt` and creates and instruction dataset in pandas format\n",
    "\n",
    "    Args:\n",
    "        root_folder_path (str): Path to the root folder.\n",
    "    \"\"\"\n",
    "    # init dataframe to return\n",
    "    \n",
    "    df_d = {\"name\": [], \"instruction\": [], \"input\": [], \"output\":[]}\n",
    "    \n",
    "    for subfolder_name in tqdm(os.listdir(root_folder_path)):\n",
    "        subfolder_path = os.path.join(root_folder_path, subfolder_name)\n",
    "        \n",
    "        # Ensure the current item is a subfolder\n",
    "        if os.path.isdir(subfolder_path):\n",
    "            subfolder_name = subfolder_path.split(\"/\")[-1]\n",
    "            text_file_path = os.path.join(subfolder_path, \"text.txt\")\n",
    "            uml_file_path = os.path.join(subfolder_path, \"uml.txt\")\n",
    "            \n",
    "            \n",
    "            # Check if `text.txt` and `uml.txt` exist in the subfolder\n",
    "            if os.path.isfile(text_file_path) and os.path.isfile(uml_file_path):\n",
    "                df_d[\"name\"].append(subfolder_name) \n",
    "                df_d[\"instruction\"].append(TASK) \n",
    "                df_d[\"input\"].append(open(text_file_path).read()) \n",
    "                df_d[\"output\"].append(open(uml_file_path).read())\n",
    "                with open(\"train_f.jsonl\",\"a\") as f:\n",
    "                    s0 = TASK.replace(\"\\n\", \" \").replace('\"', r'\\\"')\n",
    "                    s1 = open(text_file_path).read().replace(\"\\n\", \" \").replace('\"', r'\\\"')\n",
    "                    s2 = open(uml_file_path).read().replace(\"\\n\", \" \").replace('\"', r'\\\"')\n",
    "                    f.write(f'{{\"messages\": [{{\"role\": \"system\", \"content\": \"{s0}\"}}, {{\"role\": \"user\", \"content\": \"{s1}\"}}, {{\"role\": \"assistant\", \"content\": \"{s2}\"}}]}}\\n')\n",
    "\n",
    "    df = pd.DataFrame(df_d)\n",
    "    return df\n",
    "                "
   ]
  },
  {
   "cell_type": "code",
   "execution_count": 46,
   "id": "7bd617a3-40da-41ea-a7d1-c103bbceb1e2",
   "metadata": {},
   "outputs": [
    {
     "name": "stderr",
     "output_type": "stream",
     "text": [
      "100%|█████████████████████████████████████████| 44/44 [00:00<00:00, 2186.79it/s]\n"
     ]
    }
   ],
   "source": [
    "df = create_dataset(ROOT_FOLDER)"
   ]
  },
  {
   "cell_type": "code",
   "execution_count": 26,
   "id": "c4220140-25a7-4229-bf2d-750f8ca738d9",
   "metadata": {},
   "outputs": [
    {
     "data": {
      "text/html": [
       "<div>\n",
       "<style scoped>\n",
       "    .dataframe tbody tr th:only-of-type {\n",
       "        vertical-align: middle;\n",
       "    }\n",
       "\n",
       "    .dataframe tbody tr th {\n",
       "        vertical-align: top;\n",
       "    }\n",
       "\n",
       "    .dataframe thead th {\n",
       "        text-align: right;\n",
       "    }\n",
       "</style>\n",
       "<table border=\"1\" class=\"dataframe\">\n",
       "  <thead>\n",
       "    <tr style=\"text-align: right;\">\n",
       "      <th></th>\n",
       "      <th>name</th>\n",
       "      <th>instruction</th>\n",
       "      <th>input</th>\n",
       "      <th>output</th>\n",
       "    </tr>\n",
       "  </thead>\n",
       "  <tbody>\n",
       "    <tr>\n",
       "      <th>0</th>\n",
       "      <td>EmployeesAndLeaders</td>\n",
       "      <td>You will be asked by the user to create a plan...</td>\n",
       "      <td>For each project, a number of employees are as...</td>\n",
       "      <td>@startuml\\n\\nclass Project{}\\nclass MemberAssi...</td>\n",
       "    </tr>\n",
       "    <tr>\n",
       "      <th>1</th>\n",
       "      <td>EmployeesAndDepartment</td>\n",
       "      <td>You will be asked by the user to create a plan...</td>\n",
       "      <td>A department can have several employees. At an...</td>\n",
       "      <td>@startuml\\n\\nclass Department{} \\nclass Employ...</td>\n",
       "    </tr>\n",
       "    <tr>\n",
       "      <th>2</th>\n",
       "      <td>ProductsAndSuppliers</td>\n",
       "      <td>You will be asked by the user to create a plan...</td>\n",
       "      <td>A supplier can supply various products, each a...</td>\n",
       "      <td>@startuml\\n\\nclass Supplier{}\\nclass Product{}...</td>\n",
       "    </tr>\n",
       "    <tr>\n",
       "      <th>3</th>\n",
       "      <td>Menso</td>\n",
       "      <td>You will be asked by the user to create a plan...</td>\n",
       "      <td>Flander's bus company \"De Lijn\" has a number o...</td>\n",
       "      <td>@startuml\\n\\nclass BusLine {\\n}\\n\\nclass Categ...</td>\n",
       "    </tr>\n",
       "    <tr>\n",
       "      <th>4</th>\n",
       "      <td>FactoriesAndProducts</td>\n",
       "      <td>You will be asked by the user to create a plan...</td>\n",
       "      <td>Each individual product is produced by exactly...</td>\n",
       "      <td>@startuml\\n\\nclass Factory{}\\nclass Product{}\\...</td>\n",
       "    </tr>\n",
       "  </tbody>\n",
       "</table>\n",
       "</div>"
      ],
      "text/plain": [
       "                     name                                        instruction  \\\n",
       "0     EmployeesAndLeaders  You will be asked by the user to create a plan...   \n",
       "1  EmployeesAndDepartment  You will be asked by the user to create a plan...   \n",
       "2    ProductsAndSuppliers  You will be asked by the user to create a plan...   \n",
       "3                   Menso  You will be asked by the user to create a plan...   \n",
       "4    FactoriesAndProducts  You will be asked by the user to create a plan...   \n",
       "\n",
       "                                               input  \\\n",
       "0  For each project, a number of employees are as...   \n",
       "1  A department can have several employees. At an...   \n",
       "2  A supplier can supply various products, each a...   \n",
       "3  Flander's bus company \"De Lijn\" has a number o...   \n",
       "4  Each individual product is produced by exactly...   \n",
       "\n",
       "                                              output  \n",
       "0  @startuml\\n\\nclass Project{}\\nclass MemberAssi...  \n",
       "1  @startuml\\n\\nclass Department{} \\nclass Employ...  \n",
       "2  @startuml\\n\\nclass Supplier{}\\nclass Product{}...  \n",
       "3  @startuml\\n\\nclass BusLine {\\n}\\n\\nclass Categ...  \n",
       "4  @startuml\\n\\nclass Factory{}\\nclass Product{}\\...  "
      ]
     },
     "execution_count": 26,
     "metadata": {},
     "output_type": "execute_result"
    }
   ],
   "source": [
    "df.head()"
   ]
  },
  {
   "cell_type": "code",
   "execution_count": 27,
   "id": "d03c0bd5-42ef-47d2-b10b-3fb3503e8ae8",
   "metadata": {},
   "outputs": [
    {
     "data": {
      "text/plain": [
       "27"
      ]
     },
     "execution_count": 27,
     "metadata": {},
     "output_type": "execute_result"
    }
   ],
   "source": [
    "len(df)"
   ]
  },
  {
   "cell_type": "code",
   "execution_count": 3,
   "id": "fdf8f9cf-0028-4564-a8d5-72699239b6c1",
   "metadata": {},
   "outputs": [],
   "source": [
    "from datasets import load_dataset"
   ]
  },
  {
   "cell_type": "code",
   "execution_count": 4,
   "id": "093faae4-25e3-4938-9584-ab9629825468",
   "metadata": {
    "scrolled": true
   },
   "outputs": [],
   "source": [
    "dataset = load_dataset(\"LaserOverrider/text2uml\")"
   ]
  },
  {
   "cell_type": "code",
   "execution_count": 6,
   "id": "2d46327d-f104-41ef-bd02-92f1e0529b95",
   "metadata": {},
   "outputs": [
    {
     "data": {
      "text/plain": [
       "DatasetDict({\n",
       "    train: Dataset({\n",
       "        features: ['name', 'instruction', 'input', 'output'],\n",
       "        num_rows: 27\n",
       "    })\n",
       "})"
      ]
     },
     "execution_count": 6,
     "metadata": {},
     "output_type": "execute_result"
    }
   ],
   "source": [
    "dataset"
   ]
  },
  {
   "cell_type": "code",
   "execution_count": 8,
   "id": "e805c6fd-873a-40ec-91ef-e85b80e95284",
   "metadata": {},
   "outputs": [],
   "source": [
    "df = pd.DataFrame(dataset['train'])"
   ]
  },
  {
   "cell_type": "code",
   "execution_count": 9,
   "id": "74de99cc-b1bb-4152-b7aa-2f2e93244a21",
   "metadata": {},
   "outputs": [
    {
     "data": {
      "text/html": [
       "<div>\n",
       "<style scoped>\n",
       "    .dataframe tbody tr th:only-of-type {\n",
       "        vertical-align: middle;\n",
       "    }\n",
       "\n",
       "    .dataframe tbody tr th {\n",
       "        vertical-align: top;\n",
       "    }\n",
       "\n",
       "    .dataframe thead th {\n",
       "        text-align: right;\n",
       "    }\n",
       "</style>\n",
       "<table border=\"1\" class=\"dataframe\">\n",
       "  <thead>\n",
       "    <tr style=\"text-align: right;\">\n",
       "      <th></th>\n",
       "      <th>name</th>\n",
       "      <th>instruction</th>\n",
       "      <th>input</th>\n",
       "      <th>output</th>\n",
       "    </tr>\n",
       "  </thead>\n",
       "  <tbody>\n",
       "    <tr>\n",
       "      <th>0</th>\n",
       "      <td>EmployeesAndLeaders</td>\n",
       "      <td>You will be asked by the user to create a plan...</td>\n",
       "      <td>For each project, a number of employees are as...</td>\n",
       "      <td>@startuml\\n\\nclass Project{}\\nclass MemberAssi...</td>\n",
       "    </tr>\n",
       "    <tr>\n",
       "      <th>1</th>\n",
       "      <td>EmployeesAndDepartment</td>\n",
       "      <td>You will be asked by the user to create a plan...</td>\n",
       "      <td>A department can have several employees. At an...</td>\n",
       "      <td>@startuml\\n\\nclass Department{} \\nclass Employ...</td>\n",
       "    </tr>\n",
       "    <tr>\n",
       "      <th>2</th>\n",
       "      <td>ProductsAndSuppliers</td>\n",
       "      <td>You will be asked by the user to create a plan...</td>\n",
       "      <td>A supplier can supply various products, each a...</td>\n",
       "      <td>@startuml\\n\\nclass Supplier{}\\nclass Product{}...</td>\n",
       "    </tr>\n",
       "    <tr>\n",
       "      <th>3</th>\n",
       "      <td>Menso</td>\n",
       "      <td>You will be asked by the user to create a plan...</td>\n",
       "      <td>Flander's bus company \"De Lijn\" has a number o...</td>\n",
       "      <td>@startuml\\n\\nclass BusLine {\\n}\\n\\nclass Categ...</td>\n",
       "    </tr>\n",
       "    <tr>\n",
       "      <th>4</th>\n",
       "      <td>FactoriesAndProducts</td>\n",
       "      <td>You will be asked by the user to create a plan...</td>\n",
       "      <td>Each individual product is produced by exactly...</td>\n",
       "      <td>@startuml\\n\\nclass Factory{}\\nclass Product{}\\...</td>\n",
       "    </tr>\n",
       "  </tbody>\n",
       "</table>\n",
       "</div>"
      ],
      "text/plain": [
       "                     name                                        instruction  \\\n",
       "0     EmployeesAndLeaders  You will be asked by the user to create a plan...   \n",
       "1  EmployeesAndDepartment  You will be asked by the user to create a plan...   \n",
       "2    ProductsAndSuppliers  You will be asked by the user to create a plan...   \n",
       "3                   Menso  You will be asked by the user to create a plan...   \n",
       "4    FactoriesAndProducts  You will be asked by the user to create a plan...   \n",
       "\n",
       "                                               input  \\\n",
       "0  For each project, a number of employees are as...   \n",
       "1  A department can have several employees. At an...   \n",
       "2  A supplier can supply various products, each a...   \n",
       "3  Flander's bus company \"De Lijn\" has a number o...   \n",
       "4  Each individual product is produced by exactly...   \n",
       "\n",
       "                                              output  \n",
       "0  @startuml\\n\\nclass Project{}\\nclass MemberAssi...  \n",
       "1  @startuml\\n\\nclass Department{} \\nclass Employ...  \n",
       "2  @startuml\\n\\nclass Supplier{}\\nclass Product{}...  \n",
       "3  @startuml\\n\\nclass BusLine {\\n}\\n\\nclass Categ...  \n",
       "4  @startuml\\n\\nclass Factory{}\\nclass Product{}\\...  "
      ]
     },
     "execution_count": 9,
     "metadata": {},
     "output_type": "execute_result"
    }
   ],
   "source": [
    "df.head()"
   ]
  },
  {
   "cell_type": "code",
   "execution_count": 32,
   "id": "f6050901-68d7-4aa5-a8e9-154c0460d001",
   "metadata": {},
   "outputs": [],
   "source": [
    "from datasets import Dataset, DatasetDict"
   ]
  },
  {
   "cell_type": "code",
   "execution_count": 33,
   "id": "c9738bef-2761-4f5c-92f7-65db4a495dbf",
   "metadata": {},
   "outputs": [],
   "source": [
    "dataset = Dataset.from_pandas(df)"
   ]
  },
  {
   "cell_type": "code",
   "execution_count": 39,
   "id": "7d4c54b7-9cc1-426b-b824-720546a744e3",
   "metadata": {},
   "outputs": [],
   "source": [
    "\n",
    "def format_row_as_instruction_prompt(example):\n",
    "    # Check if 'input' key exists and has content\n",
    "    has_input = example.get('input', None) is not None\n",
    "\n",
    "    # Define the prompts based on the presence of input\n",
    "    if has_input:\n",
    "        primer_prompt = (\"Below is an instruction that describes a task, paired with an input \"\n",
    "                         \"that provides further context. Write a response that appropriately completes the request.\")\n",
    "        input_template = f\"### Input: \\n{example['input']}\\n\\n\"\n",
    "    else:\n",
    "        primer_prompt = (\"Below is an instruction that describes a task. \"\n",
    "                         \"Write a response that appropriately completes the request.\")\n",
    "        input_template = \"\"\n",
    "\n",
    "    instruction_template = f\"### Instruction: \\n{example['instruction']}\\n\\n\"\n",
    "\n",
    "    # Check if 'output' key exists\n",
    "    if example.get('output', None):\n",
    "        response_template = f\"### Response: \\n{example['output']}\\n\\n\"\n",
    "    else:\n",
    "        response_template = \"\"\n",
    "\n",
    "    return f\"{primer_prompt}\\n\\n{instruction_template}{input_template}{response_template}\""
   ]
  },
  {
   "cell_type": "code",
   "execution_count": 40,
   "id": "90fdd1d5-c3c2-469b-9b61-6f45fa529055",
   "metadata": {},
   "outputs": [
    {
     "name": "stdout",
     "output_type": "stream",
     "text": [
      "Below is an instruction that describes a task, paired with an input that provides further context. Write a response that appropriately completes the request.\n",
      "\n",
      "### Instruction: \n",
      "Open the door.\n",
      "\n",
      "### Input: \n",
      "The door is locked.\n",
      "\n",
      "### Response: \n",
      "Use the key to unlock and then open the door.\n",
      "\n",
      "\n"
     ]
    }
   ],
   "source": [
    "# Test with an example dictionary\n",
    "test_example = {\n",
    "    'instruction': \"Open the door.\",\n",
    "    'input': \"The door is locked.\",\n",
    "    'output': \"Use the key to unlock and then open the door.\"\n",
    "}\n",
    "\n",
    "print(format_row_as_instruction_prompt(test_example))"
   ]
  },
  {
   "cell_type": "code",
   "execution_count": 41,
   "id": "855bf7d8-0760-4519-a51a-6ddea1e59ed7",
   "metadata": {},
   "outputs": [],
   "source": [
    "df.to_json('temp.json', orient='records', lines=True)"
   ]
  }
 ],
 "metadata": {
  "kernelspec": {
   "display_name": "Python 3 (ipykernel)",
   "language": "python",
   "name": "python3"
  },
  "language_info": {
   "codemirror_mode": {
    "name": "ipython",
    "version": 3
   },
   "file_extension": ".py",
   "mimetype": "text/x-python",
   "name": "python",
   "nbconvert_exporter": "python",
   "pygments_lexer": "ipython3",
   "version": "3.11.5"
  }
 },
 "nbformat": 4,
 "nbformat_minor": 5
}
